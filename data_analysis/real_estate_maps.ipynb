{
  "nbformat": 4,
  "nbformat_minor": 0,
  "metadata": {
    "colab": {
      "provenance": []
    },
    "kernelspec": {
      "name": "python3",
      "display_name": "Python 3"
    },
    "language_info": {
      "name": "python"
    }
  },
  "cells": [
    {
      "cell_type": "code",
      "execution_count": 14,
      "metadata": {
        "id": "D4BEEtKWt5Ro"
      },
      "outputs": [],
      "source": [
        "import pandas as pd\n",
        "import io\n",
        "import folium\n",
        "from folium.plugins import HeatMap\n",
        "import numpy as np\n",
        "import matplotlib.cm as cm\n",
        "import matplotlib.colors as colors\n",
        "import sys\n"
      ]
    },
    {
      "cell_type": "code",
      "source": [
        "def parse_price(price_str):\n",
        "    \"\"\"\n",
        "    Átalakítja az ár stringet (pl. \"62,03 M Ft\", \"1.06 Mrd Ft\")\n",
        "    numerikus értékké millió Forintban.\n",
        "    \"\"\"\n",
        "    if pd.isna(price_str):\n",
        "        return np.nan\n",
        "\n",
        "    try:\n",
        "        price_str = str(price_str).strip()\n",
        "\n",
        "        value = np.nan\n",
        "\n",
        "        if 'Mrd Ft' in price_str:\n",
        "            num_str = price_str.replace(' Mrd Ft', '').replace(',', '.')\n",
        "            value = float(num_str) * 1000\n",
        "        elif 'M Ft' in price_str:\n",
        "            num_str = price_str.replace(' M Ft', '').replace(',', '.')\n",
        "            value = float(num_str)\n",
        "        else:\n",
        "             num_str = price_str.replace(',', '.')\n",
        "             value = float(num_str)\n",
        "\n",
        "        return value\n",
        "\n",
        "    except ValueError:\n",
        "        return np.nan"
      ],
      "metadata": {
        "id": "t0jLAaU8ueAM"
      },
      "execution_count": 2,
      "outputs": []
    },
    {
      "cell_type": "code",
      "source": [
        "try:\n",
        "    csv_filename = \"data_geocoded_partial.csv\"\n",
        "    df = pd.read_csv(csv_filename)\n",
        "\n",
        "    price_column_name = 'price'\n",
        "    required_columns = ['latitude', 'longitude', price_column_name]\n",
        "    if not all(col in df.columns for col in required_columns):\n",
        "        raise ValueError(f\"A CSV fájlnak tartalmaznia kell a következő oszlopokat: {required_columns}\")\n",
        "\n",
        "    df['price_millions'] = df[price_column_name].apply(parse_price)\n",
        "\n",
        "except FileNotFoundError:\n",
        "    print(f\"Hiba: A megadott CSV fájl ({csv_filename}) nem található.\")\n",
        "    exit()\n",
        "except ValueError as ve:\n",
        "    print(f\"Hiba az adatok feldolgozása során: {ve}\")\n",
        "    exit()\n",
        "except Exception as e:\n",
        "    print(f\"Váratlan hiba történt a CSV fájl beolvasása vagy az alapvető ellenőrzés közben: {e}\")\n",
        "    exit()"
      ],
      "metadata": {
        "id": "f-Tue0uLuL7I"
      },
      "execution_count": 3,
      "outputs": []
    },
    {
      "cell_type": "markdown",
      "source": [
        "Adatbeolvasás és tisztítás:"
      ],
      "metadata": {
        "id": "R-OiWR9I2IU2"
      }
    },
    {
      "cell_type": "code",
      "source": [
        "map_center = [47.4979, 19.0402]\n",
        "df_cleaned_base = df.dropna(subset=['latitude', 'longitude', 'price_millions']).copy()\n"
      ],
      "metadata": {
        "id": "aTwE4QuP12ZP"
      },
      "execution_count": 5,
      "outputs": []
    },
    {
      "cell_type": "code",
      "source": [
        "print(\"\\n--- Térkép 1: Ár/Négyzetméter Hőtérkép ---\")\n",
        "df_viz1 = df_cleaned_base.dropna(subset=['sqm']).copy()\n",
        "df_viz1 = df_viz1[df_viz1['sqm'] > 0]\n",
        "if not df_viz1.empty:\n",
        "    df_viz1['price_per_sqm_mFt'] = (df_viz1['price_millions'] / df_viz1['sqm']) # Millió Ft / m²\n",
        "    max_val_cap = df_viz1['price_per_sqm_mFt'].quantile(0.95)\n",
        "    df_viz1 = df_viz1.dropna(subset=['price_per_sqm_mFt'])\n",
        "    df_viz1.replace([np.inf, -np.inf], np.nan, inplace=True)\n",
        "    df_viz1 = df_viz1.dropna(subset=['price_per_sqm_mFt'])\n",
        "\n",
        "    if not df_viz1.empty:\n",
        "        map_price_per_sqm = folium.Map(location=map_center, zoom_start=12)\n",
        "        heat_data_sqm = df_viz1[['latitude', 'longitude', 'price_per_sqm_mFt']].values.tolist()\n",
        "\n",
        "        HeatMap(heat_data_sqm,\n",
        "                name='Ár/m² (Millió Ft/m²)',\n",
        "                radius=10,\n",
        "                blur=8,\n",
        "                min_opacity=0.3,\n",
        "               ).add_to(map_price_per_sqm)\n",
        "\n",
        "        folium.LayerControl().add_to(map_price_per_sqm)\n",
        "        print(\"Finomhangolt Ár/nm hőtérkép elkészült.\")\n",
        "\n",
        "    else:\n",
        "        print(\"Hiba: Nincs érvényes adat az ár/nm térképhez a számítás után.\")\n",
        "else:\n",
        "    print(\"Hiba: Nincs érvényes adat (sqm) az ár/nm térképhez.\")"
      ],
      "metadata": {
        "colab": {
          "base_uri": "https://localhost:8080/"
        },
        "id": "dI1AsvlL2DuS",
        "outputId": "c5cdf9af-2395-4d10-eaa1-229fc265224e"
      },
      "execution_count": 12,
      "outputs": [
        {
          "output_type": "stream",
          "name": "stdout",
          "text": [
            "\n",
            "--- Térkép 1: Ár/Négyzetméter Hőtérkép ---\n",
            "Finomhangolt Ár/nm hőtérkép elkészült.\n"
          ]
        }
      ]
    },
    {
      "cell_type": "code",
      "source": [
        "df_cleaned = df.dropna(subset=['latitude', 'longitude', 'price_millions']).copy()\n",
        "\n",
        "if df_cleaned.empty:\n",
        "    exit()\n",
        "\n",
        "budapest_map = folium.Map(location=map_center, zoom_start=12)\n",
        "\n",
        "heat_data = df_cleaned[['latitude', 'longitude', 'price_millions']].values.tolist()\n",
        "\n",
        "HeatMap(heat_data,\n",
        "        name='Ingatlan Árak (Hőtérkép)',\n",
        "        radius=10,\n",
        "        blur=1\n",
        "       ).add_to(budapest_map)\n",
        "\n",
        "folium.LayerControl().add_to(budapest_map)\n",
        "\n",
        "try:\n",
        "    map_filename = \"budapest_ingatlan_heatmap.html\"\n",
        "    budapest_map.save(map_filename)\n",
        "    print(f\"Térkép sikeresen mentve a '{map_filename}' fájlba.\")\n",
        "except Exception as e:\n",
        "    print(f\"Hiba történt a térkép mentése közben: {e}\")\n"
      ],
      "metadata": {
        "colab": {
          "base_uri": "https://localhost:8080/"
        },
        "id": "Jby8duCjuNim",
        "outputId": "ecda3997-555d-4c17-dbfc-943a235839fd"
      },
      "execution_count": 4,
      "outputs": [
        {
          "output_type": "stream",
          "name": "stdout",
          "text": [
            "Térkép sikeresen mentve a 'budapest_ingatlan_heatmap.html' fájlba.\n"
          ]
        }
      ]
    },
    {
      "cell_type": "code",
      "source": [
        "# --- Ár/Négyzetméter Színezett Kör Jelölőkkel (Piros Skála) ---\n",
        "\n",
        "if 'df_viz1' in locals() and not df_viz1.empty and 'matplotlib' in sys.modules:\n",
        "    map_price_per_sqm_circles_red = folium.Map(location=map_center, zoom_start=12)\n",
        "    folium.TileLayer(\n",
        "        tiles='CartoDB positron',\n",
        "        opacity=0.85,\n",
        "        name='Halvány alapréteg'\n",
        "    ).add_to(map_price_per_sqm_circles_red)\n",
        "\n",
        "\n",
        "    min_val = df_viz1['price_per_sqm_mFt'].quantile(0.01)\n",
        "    max_val = df_viz1['price_per_sqm_mFt'].quantile(0.99)\n",
        "    norm = colors.Normalize(vmin=min_val, vmax=max_val, clip=True)\n",
        "\n",
        "    cmap = cm.get_cmap('Reds')\n",
        "\n",
        "    def get_color_hex(value, cmap, norm):\n",
        "        rgba = cmap(norm(value))\n",
        "        return colors.rgb2hex(rgba)\n",
        "\n",
        "    for _, row in df_viz1.iterrows():\n",
        "        price_sqm = row['price_per_sqm_mFt']\n",
        "        marker_color = get_color_hex(price_sqm, cmap, norm)\n",
        "\n",
        "        folium.CircleMarker(\n",
        "            location=[row['latitude'], row['longitude']],\n",
        "            radius=3,\n",
        "            color=None,\n",
        "            weight=0,\n",
        "            fill=True,\n",
        "            fill_color=marker_color,\n",
        "            fill_opacity=0.5,\n",
        "            tooltip=f\"Ár/m²: {price_sqm:.2f} M Ft/m²\"\n",
        "        ).add_to(map_price_per_sqm_circles_red)\n",
        "\n",
        "    legend_html = '''\n",
        "    <div style=\"position: fixed;\n",
        "                bottom: 50px; left: 50px; width: 150px; height: 130px;\n",
        "                border:2px solid grey; z-index:9999; font-size:14px;\n",
        "                background-color:white; opacity: 0.85;\n",
        "                \">\n",
        "    &nbsp;<b>Ár/nm (M Ft/m²)</b><br>\n",
        "    '''\n",
        "    legend_steps = 5\n",
        "    for i in range(legend_steps):\n",
        "        val = min_val + (max_val - min_val) * i / (legend_steps - 1)\n",
        "        color = get_color_hex(val, cmap, norm)\n",
        "        legend_html += f'&nbsp;<i class=\"fa fa-square\" style=\"color:{color}\"></i> {val:.2f}<br>'\n",
        "        if i == 0: legend_html += '&nbsp;.<br>&nbsp;.<br>' # Kis térköz\n",
        "    legend_html += '''\n",
        "    </div>\n",
        "    '''\n",
        "    map_price_per_sqm_circles_red.get_root().html.add_child(folium.Element(legend_html))\n",
        "\n",
        "    print(\"Ár/nm piros kör diagram elkészült (matplotlib szükséges).\")\n",
        "else:\n",
        "    if 'matplotlib' not in sys.modules:\n",
        "         print(\"Skipping CircleMarker map due to missing matplotlib.\")\n",
        "    else:\n",
        "        print(\"Hiba: Nincs adat az Ár/nm kör diagramhoz.\")\n",
        "try:\n",
        "    map_filename = \"high_price_map.html\"\n",
        "    map_price_per_sqm_circles_red.save(map_filename)\n",
        "    print(f\"Térkép sikeresen mentve ide: {map_filename}\")\n",
        "except Exception as e:\n",
        "    print(f\"Hiba történt a térkép mentése közben: {e}\")"
      ],
      "metadata": {
        "colab": {
          "base_uri": "https://localhost:8080/"
        },
        "id": "5tS47ae010hy",
        "outputId": "38a6f148-95bc-4bb9-d094-7f38a8b6193c"
      },
      "execution_count": 24,
      "outputs": [
        {
          "output_type": "stream",
          "name": "stdout",
          "text": [
            "\n",
            "--- Térkép: Ár/nm Színezett Körökkel (Piros Skála) ---\n"
          ]
        },
        {
          "output_type": "stream",
          "name": "stderr",
          "text": [
            "<ipython-input-24-d86b62a0cd6f>:22: MatplotlibDeprecationWarning: The get_cmap function was deprecated in Matplotlib 3.7 and will be removed in 3.11. Use ``matplotlib.colormaps[name]`` or ``matplotlib.colormaps.get_cmap()`` or ``pyplot.get_cmap()`` instead.\n",
            "  cmap = cm.get_cmap('Reds') # <- ITT VÁLTOZTATTUK A SZÍNSKÁLÁT\n"
          ]
        },
        {
          "output_type": "stream",
          "name": "stdout",
          "text": [
            "Ár/nm piros kör diagram elkészült (matplotlib szükséges).\n",
            "Térkép sikeresen mentve ide: high_price_map.html\n"
          ]
        }
      ]
    },
    {
      "cell_type": "code",
      "source": [],
      "metadata": {
        "colab": {
          "base_uri": "https://localhost:8080/"
        },
        "id": "WpwXDvJ68VtF",
        "outputId": "7a7cd60c-06ad-4916-c1c9-f0aa9d6d532d"
      },
      "execution_count": 21,
      "outputs": [
        {
          "output_type": "stream",
          "name": "stdout",
          "text": [
            "Térkép sikeresen mentve ide: high_price_map.html\n"
          ]
        }
      ]
    }
  ]
}